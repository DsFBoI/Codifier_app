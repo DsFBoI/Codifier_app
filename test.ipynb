{
 "cells": [
  {
   "cell_type": "code",
   "execution_count": 1,
   "metadata": {},
   "outputs": [],
   "source": [
    "from encoder_code import encoder, decoder\n",
    "from recievers import password_rec as pw\n"
   ]
  },
  {
   "cell_type": "code",
   "execution_count": 2,
   "metadata": {},
   "outputs": [
    {
     "name": "stdout",
     "output_type": "stream",
     "text": [
      "Password embedded and image saved as ./test/passimg.png\n"
     ]
    }
   ],
   "source": [
    "\n",
    "# Example usage:\n",
    "image_path = './images/OIP.png'  # Path to your image\n",
    "password = pw.ask_password() # Password to hide\n",
    "output_image_path = './images/passimg.png' # Path to save the new image with embedded password\n",
    "\n",
    "encoder.encode(image_path, password,output_image_path )\n",
    "\n",
    "\n",
    "\n"
   ]
  },
  {
   "cell_type": "code",
   "execution_count": 3,
   "metadata": {},
   "outputs": [
    {
     "name": "stdout",
     "output_type": "stream",
     "text": [
      "The hidden password is: asjdhjhjahs\n"
     ]
    }
   ],
   "source": [
    "\n",
    "password = decoder.decode(output_image_path)\n",
    "print(f\"The hidden password is: {password}\")"
   ]
  },
  {
   "cell_type": "code",
   "execution_count": 4,
   "metadata": {},
   "outputs": [
    {
     "data": {
      "text/plain": [
       "<module 'encoder.encoder' from 'c:\\\\Users\\\\d.sanchez.ferrari\\\\OneDrive - Accenture\\\\Documents\\\\Tfg\\\\Codifier_app\\\\encoder\\\\encoder.py'>"
      ]
     },
     "execution_count": 4,
     "metadata": {},
     "output_type": "execute_result"
    }
   ],
   "source": [
    "import importlib\n",
    "\n",
    "\n",
    "importlib.reload(pw) \n",
    "importlib.reload(encoder) "
   ]
  }
 ],
 "metadata": {
  "kernelspec": {
   "display_name": ".venv",
   "language": "python",
   "name": "python3"
  },
  "language_info": {
   "codemirror_mode": {
    "name": "ipython",
    "version": 3
   },
   "file_extension": ".py",
   "mimetype": "text/x-python",
   "name": "python",
   "nbconvert_exporter": "python",
   "pygments_lexer": "ipython3",
   "version": "3.11.9"
  }
 },
 "nbformat": 4,
 "nbformat_minor": 2
}
